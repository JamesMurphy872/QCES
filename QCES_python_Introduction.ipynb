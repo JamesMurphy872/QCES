{
  "cells": [
    {
      "cell_type": "markdown",
      "metadata": {},
      "source": [
        "<a href=\"https://colab.research.google.com/github/johnryantaylor/QCES/blob/main/Python_Introduction.ipynb\" target=\"_parent\"><img src=\"https://colab.research.google.com/assets/colab-badge.svg\" alt=\"Open In Colab\"/></a>\n"
      ]
    },
    {
      "cell_type": "markdown",
      "metadata": {},
      "source": [
        "# Introduction to Python for QCES\n",
        "\n",
        "This notebook provides an introduction to Python and covers the concepts and commands that we will used in the computational projects in Quantitative Climate and Environmental Science.\n",
        "\n",
        "The notebook is organized into the following sections\n",
        "1. Python basics (variables, operations, functions)\n",
        "2. Working with NumPy arrays\n",
        "3. Plotting with Matplotlib\n",
        "4. Pracice exercises\n",
        "5. Summary and other resources\n"
      ]
    },
    {
      "cell_type": "markdown",
      "metadata": {},
      "source": [
        "## 1. Python Basics\n",
        "\n",
        "### 1.1 Variables and Data Types\n",
        "\n",
        "In Python, you can store values in variables. Python automatically determines the type of data you're working with.\n"
      ]
    },
    {
      "cell_type": "code",
      "execution_count": null,
      "metadata": {},
      "outputs": [],
      "source": [
        "# This is a comment - Python ignores everything after the # symbol\n",
        "\n",
        "# Numbers (integers and floats)\n",
        "x = 5          # integer\n",
        "y = 3.14       # float (decimal number)\n",
        "z = 2.0        # also a float, even though it looks like a whole number\n",
        "\n",
        "# Strings (text)\n",
        "name = \"Python\"\n",
        "greeting = 'Hello, World!'  # Single or double quotes both produce strings\n",
        "\n",
        "# Print values to see them\n",
        "print(x)\n",
        "print(y)\n",
        "print(greeting)\n"
      ]
    },
    {
      "cell_type": "markdown",
      "metadata": {},
      "source": [
        "### 1.2 Mathematical Operations\n",
        "\n",
        "Python supports standard mathematical operations.  Some examples are below.\n"
      ]
    },
    {
      "cell_type": "code",
      "execution_count": null,
      "metadata": {},
      "outputs": [],
      "source": [
        "# Basic arithmetic\n",
        "a = 10\n",
        "b = 3\n",
        "\n",
        "print(\"Addition:\", a + b)        # 13\n",
        "print(\"Subtraction:\", a - b)     # 7\n",
        "print(\"Multiplication:\", a * b)  # 30\n",
        "print(\"Division:\", a / b)        # 3.333...\n",
        "print(\"Exponentiation:\", a ** b) # 1000 (10 to the power of 3)\n",
        "\n",
        "# Order of operations follows standard mathematical rules (PEMDAS)\n",
        "result = (a + b) * 2 ** 3\n",
        "print(\"Complex expression:\", result)\n"
      ]
    },
    {
      "cell_type": "markdown",
      "metadata": {},
      "source": [
        "### 1.3 Loops\n",
        "\n",
        "Loops let you repeat operations. The `for` loop is most common in scientific computing:\n"
      ]
    },
    {
      "cell_type": "code",
      "execution_count": null,
      "metadata": {},
      "outputs": [],
      "source": [
        "# Loop through a range of numbers\n",
        "for i in range(5):  # range(5) gives us 0, 1, 2, 3, 4\n",
        "    print(\"Iteration\", i)\n",
        "\n",
        "# You can also loop through specific values\n",
        "for value in [10, 20, 30]:\n",
        "    print(\"Value:\", value)\n"
      ]
    },
    {
      "cell_type": "markdown",
      "metadata": {},
      "source": [
        "### 1.4 Conditionals\n",
        "\n",
        "Use `if` statements to make decisions in your code:\n"
      ]
    },
    {
      "cell_type": "code",
      "execution_count": null,
      "metadata": {},
      "outputs": [],
      "source": [
        "temperature = 25  # degrees Celsius\n",
        "\n",
        "if temperature > 30:\n",
        "    print(\"It's hot!\")\n",
        "elif temperature > 20:\n",
        "    print(\"It's warm.\")\n",
        "elif temperature > 10:\n",
        "    print(\"It's cool.\")\n",
        "elif temperature > 0:\n",
        "    print(\"It's chilly.\")\n",
        "else:\n",
        "    print(\"It's freezing!\")\n"
      ]
    },
    {
      "cell_type": "markdown",
      "metadata": {},
      "source": [
        "### 1.5 Functions\n",
        "\n",
        "Functions let you package code for reuse:\n"
      ]
    },
    {
      "cell_type": "code",
      "execution_count": null,
      "metadata": {},
      "outputs": [],
      "source": [
        "# Define a function\n",
        "def celsius_to_fahrenheit(celsius):\n",
        "    fahrenheit = celsius * 9/5 + 32\n",
        "    return fahrenheit\n",
        "\n",
        "# Use the function\n",
        "temp_c = 25\n",
        "temp_f = celsius_to_fahrenheit(temp_c)\n",
        "print(f\"{temp_c}°C is {temp_f}°F\")  # f-string for formatted output\n"
      ]
    },
    {
      "cell_type": "markdown",
      "metadata": {},
      "source": [
        "### 1.6 Lists\n",
        "\n",
        "Lists store multiple values in a single variable. The first value is indexed at 0, the second value is indexed at 1, and so on.  Negative indices can be used to count backwards from the end. For example, the -1 index corresponds to the last element in the list, -2 is the second to last element, etc.\n",
        "\n",
        "Elements can be added to a list using `append`.\n",
        "\n",
        "The length of the list can be determined using `len`.\n"
      ]
    },
    {
      "cell_type": "code",
      "execution_count": null,
      "metadata": {},
      "outputs": [],
      "source": [
        "# Create a list\n",
        "temperatures = [15.5, 18.2, 22.1, 19.8, 16.3]\n",
        "\n",
        "# Access elements by index (starting at 0)\n",
        "print(\"First temperature:\", temperatures[0])\n",
        "# Access the last element in the list\n",
        "print(\"Last temperature:\", temperatures[-1])  \n",
        "\n",
        "# Add elements to a list\n",
        "temperatures.append(20.5)\n",
        "print(\"Updated list:\", temperatures)\n",
        "\n",
        "# Get the length of a list\n",
        "print(\"Number of measurements:\", len(temperatures))\n"
      ]
    },
    {
      "cell_type": "markdown",
      "metadata": {},
      "source": [
        "## 2. NumPy: Numerical Python\n",
        "\n",
        "NumPy is the fundamental package for scientific computing in Python. It provides powerful array objects and mathematical functions.\n",
        "\n",
        "### 2.1 Importing NumPy\n",
        "\n",
        "First, we need to import the NumPy library. By convention, we give it the alias `np`:"
      ]
    },
    {
      "cell_type": "code",
      "execution_count": null,
      "metadata": {},
      "outputs": [],
      "source": [
        "import numpy as np\n"
      ]
    },
    {
      "cell_type": "markdown",
      "metadata": {},
      "source": [
        "### 2.2 Creating Arrays\n",
        "\n",
        "NumPy arrays are like lists, but much more powerful for numerical operations:\n"
      ]
    },
    {
      "cell_type": "code",
      "execution_count": null,
      "metadata": {},
      "outputs": [],
      "source": [
        "# Create an array from a list\n",
        "arr1 = np.array([1, 2, 3, 4, 5])\n",
        "print(\"Array:\", arr1)\n",
        "\n",
        "# Create an array of zeros\n",
        "zeros = np.zeros(5)\n",
        "print(\"Zeros:\", zeros)\n",
        "\n",
        "# Create an array of ones\n",
        "ones = np.ones(4)\n",
        "print(\"Ones:\", ones)\n",
        "\n",
        "# Create evenly spaced values (very common in scientific computing!)\n",
        "x = np.linspace(0, 10, 6)  # 6 values from 0 to 10\n",
        "print(\"Linspace:\", x)\n"
      ]
    },
    {
      "cell_type": "markdown",
      "metadata": {},
      "source": [
        "### 2.3 Array Operations\n",
        "\n",
        "One of NumPy's most powerful features is **vectorization** - which applies operations to entire arrays at once. This is much faster than doing operations pointwise.\n"
      ]
    },
    {
      "cell_type": "code",
      "execution_count": null,
      "metadata": {},
      "outputs": [],
      "source": [
        "# Create two arrays\n",
        "a = np.array([1, 2, 3, 4])\n",
        "b = np.array([10, 20, 30, 40])\n",
        "\n",
        "# Element-wise operations\n",
        "print(\"Addition:\", a + b)          # [11, 22, 33, 44]\n",
        "print(\"Multiplication:\", a * b)    # [10, 40, 90, 160]\n",
        "print(\"Exponentiation:\", a ** 2)   # [1, 4, 9, 16]\n",
        "\n",
        "# Operations with scalars\n",
        "print(\"Add 5 to all:\", a + 5)      # [6, 7, 8, 9]\n",
        "print(\"Multiply by 10:\", a * 10)   # [10, 20, 30, 40]\n"
      ]
    },
    {
      "cell_type": "markdown",
      "metadata": {},
      "source": [
        "We can test this assertion by timing operations with a python list and a NumPy array using the `time` function."
      ]
    },
    {
      "cell_type": "code",
      "execution_count": null,
      "metadata": {},
      "outputs": [],
      "source": [
        "import time # Use the time module to time multiplication of lists and NumPy arrays\n",
        "\n",
        "# Create large arrays/lists\n",
        "size = 10**6\n",
        "list_a = list(range(size))\n",
        "list_b = list(range(size))\n",
        "\n",
        "array_a = np.array(list_a)\n",
        "array_b = np.array(list_b)\n",
        "\n",
        "# Multiply lists\n",
        "start_time = time.time()\n",
        "list_result = [0]*size\n",
        "for i in range(size):\n",
        "    list_result[i] = list_a[i] * list_b[i]\n",
        "print(\"List multiplication time in seconds:\", time.time() - start_time)\n",
        "\n",
        "# Multiply NumPy arrays\n",
        "start_time = time.time()\n",
        "array_result = array_a * array_b\n",
        "print(\"NumPy multiplication time in seconds:\", time.time() - start_time)"
      ]
    },
    {
      "cell_type": "markdown",
      "metadata": {},
      "source": [
        "### 2.4 Mathematical Functions\n",
        "\n",
        "NumPy provides many mathematical functions that work on arrays. A few examples are below.\n"
      ]
    },
    {
      "cell_type": "code",
      "execution_count": null,
      "metadata": {},
      "outputs": [],
      "source": [
        "# Create an array of angles\n",
        "angles = np.linspace(0, 2*np.pi, 5)\n",
        "\n",
        "# Trigonometric functions\n",
        "print(\"Sine:\", np.sin(angles))\n",
        "print(\"Cosine:\", np.cos(angles))\n",
        "\n",
        "# Exponential and logarithmic\n",
        "x = np.array([1, 2, 3])\n",
        "print(\"Exponential:\", np.exp(x))   # e^x\n",
        "\n",
        "# Other useful functions\n",
        "data = np.array([1, 4, 2, 8, 3])\n",
        "print(\"Maximum:\", np.max(data))\n",
        "print(\"Mean:\", np.mean(data))\n",
        "print(\"Square root:\", np.sqrt(data))\n"
      ]
    },
    {
      "cell_type": "markdown",
      "metadata": {},
      "source": [
        "### 2.5 Array Indexing and Slicing\n",
        "\n",
        "We can access elements of NumPy arrays in a similar way to lists. For example, the first element is indexed to 0, then 1, etc.\n",
        "\n",
        "We can access multiple elements using array slicing with the syntax `arr[start:end]` where `arr` is a NumPy array and `start` and `end-1` are the starting and ending indices of the slice. It is important to note that the end index is not included in the slice when doing `arr[start:end]`.\n",
        "\n",
        "If we omit start and/or end, then we index to the end of the array.\n"
      ]
    },
    {
      "cell_type": "code",
      "execution_count": null,
      "metadata": {},
      "outputs": [],
      "source": [
        "# Create an array\n",
        "arr = np.array([10, 20, 30, 40, 50, 60])\n",
        "\n",
        "# Access single elements\n",
        "print(\"First element:\", arr[0])\n",
        "print(\"Last element:\", arr[-1])\n",
        "\n",
        "print(\"All: \", arr[:])\n",
        "print(\"First three:\", arr[0:3])    # [10, 20, 30]\n",
        "print(\"First three (again):\", arr[:3]) # [10, 20, 30]\n",
        "print(\"From index 2 on:\", arr[2:]) # [30, 40, 50, 60]\n",
        "print(\"Every other:\", arr[::2])    # [10, 30, 50]\n"
      ]
    },
    {
      "cell_type": "markdown",
      "metadata": {},
      "source": [
        "### 2.6 Multidimensional arrays\n",
        "\n",
        "NumPy can work with multi-dimensional arrays. For example, a two-dimensional array can be used to store the coefficients of a matrix. Remember that indexing starts at 0 (which is different from what might be used to when thinking about matrices).\n",
        "\n",
        "Attributes of NumPy arrays can be accessed using a dot following the array name, followed by the attribute. We can get the size of each dimension of an array using the `shape` attribute.\n"
      ]
    },
    {
      "cell_type": "code",
      "execution_count": null,
      "metadata": {},
      "outputs": [],
      "source": [
        "# Create a 2D array (matrix)\n",
        "matrix = np.array([[1, 2, 3],\n",
        "                   [4, 5, 6],\n",
        "                   [7, 8, 9]])\n",
        "print(\"Matrix:\")\n",
        "print(matrix)\n",
        "\n",
        "# Access elements: array[row, column]\n",
        "print(\"Element at row 1, col 2:\", matrix[1, 2])  # 6\n",
        "\n",
        "# Print the size of each dimension of the array\n",
        "print(\"Shape:\", matrix.shape)  # (3, 3)\n",
        "\n",
        "# Create a 2D array of zeros\n",
        "zero_array = np.zeros((3, 4))  # 3 rows, 4 columns\n",
        "print(\"Zero array:\")\n",
        "print(zero_array)\n"
      ]
    },
    {
      "cell_type": "markdown",
      "metadata": {},
      "source": [
        "## 3. Matplotlib: Plotting and Visualization\n",
        "\n",
        "Matplotlib is a standard Python plotting library. We'll focus on the `pyplot` interface.\n",
        "\n",
        "### 3.1 Importing Matplotlib\n"
      ]
    },
    {
      "cell_type": "code",
      "execution_count": null,
      "metadata": {},
      "outputs": [],
      "source": [
        "import matplotlib.pyplot as plt\n",
        "\n",
        "# This command makes plots appear in the notebook\n",
        "%matplotlib inline\n"
      ]
    },
    {
      "cell_type": "markdown",
      "metadata": {},
      "source": [
        "### 3.2 Basic Line Plot\n"
      ]
    },
    {
      "cell_type": "code",
      "execution_count": null,
      "metadata": {},
      "outputs": [],
      "source": [
        "# Create some data\n",
        "x = np.linspace(0, 10, 100)\n",
        "y = np.sin(x)\n",
        "\n",
        "# Create a plot\n",
        "plt.figure(figsize=(8, 4))  # Set figure size (width, height in inches)\n",
        "plt.plot(x, y)\n",
        "plt.xlabel('x')             # Label x-axis\n",
        "plt.ylabel('sin(x)')        # Label y-axis\n",
        "plt.title('Sine Function') # Add title\n",
        "plt.grid(True)              # Add grid\n",
        "plt.show()                  # Display the plot\n"
      ]
    },
    {
      "cell_type": "markdown",
      "metadata": {},
      "source": [
        "### 3.3 Customizing Plots\n",
        "\n",
        "We can overlay plots with multiple calls to the `plt.plot` function"
      ]
    },
    {
      "cell_type": "code",
      "execution_count": null,
      "metadata": {},
      "outputs": [],
      "source": [
        "# Plot multiple lines\n",
        "x = np.linspace(0, 2*np.pi, 100)\n",
        "y1 = np.sin(x)\n",
        "y2 = np.cos(x)\n",
        "\n",
        "plt.figure(figsize=(8, 5))\n",
        "plt.plot(x, y1, 'b-', label='sin(x)', linewidth=2)   # blue solid line\n",
        "plt.plot(x, y2, 'r--', label='cos(x)', linewidth=2)  # red dashed line\n",
        "plt.xlabel('x')\n",
        "plt.ylabel('y')\n",
        "plt.title('Trigonometric Functions')\n",
        "plt.legend()  # Show legend\n",
        "plt.xlim(0, 2*np.pi)  # Set x-axis limits\n",
        "plt.ylim(-1.5, 1.5)   # Set y-axis limits\n",
        "plt.grid(True, alpha=0.3)  # Semi-transparent grid\n",
        "plt.show()\n"
      ]
    },
    {
      "cell_type": "markdown",
      "metadata": {},
      "source": [
        "### 3.4 Scatter Plots\n",
        "\n",
        "Scatter plots can be used to plot individual data points."
      ]
    },
    {
      "cell_type": "code",
      "execution_count": null,
      "metadata": {},
      "outputs": [],
      "source": [
        "# Create some scattered data\n",
        "x = np.random.rand(50)  # 50 random values between 0 and 1\n",
        "y = 2*x + 0.5 + 0.2*np.random.randn(50)  # Linear relationship with noise\n",
        "\n",
        "plt.figure(figsize=(6, 6))\n",
        "plt.scatter(x, y, s=50, alpha=0.6)  # s=size, alpha=transparency\n",
        "plt.xlabel('x')\n",
        "plt.ylabel('y')\n",
        "plt.title('Scatter Plot Example')\n",
        "plt.grid(True)\n",
        "plt.show()\n"
      ]
    },
    {
      "cell_type": "markdown",
      "metadata": {},
      "source": [
        "### 3.5 Heatmaps with pcolormesh\n",
        "\n",
        "For 2D data, `pcolormesh` creates colored grid plots:\n"
      ]
    },
    {
      "cell_type": "code",
      "execution_count": null,
      "metadata": {},
      "outputs": [],
      "source": [
        "# Create a 2D function to visualize\n",
        "x = np.linspace(-3, 3, 100)\n",
        "y = np.linspace(-3, 3, 100)\n",
        "X, Y = np.meshgrid(x, y)  # Create 2D coordinate arrays\n",
        "Z = np.exp(-(X**2 + Y**2))  # 2D Gaussian\n",
        "\n",
        "plt.figure(figsize=(8, 6))\n",
        "plt.pcolormesh(X, Y, Z, cmap='viridis', shading='auto')  # cmap sets color scheme\n",
        "plt.colorbar(label='Value')  # Add colorbar with label\n",
        "plt.xlabel('x')\n",
        "plt.ylabel('y')\n",
        "plt.title('2D Gaussian Function')\n",
        "plt.axis('equal')  # Equal aspect ratio\n",
        "plt.show()\n"
      ]
    },
    {
      "cell_type": "markdown",
      "metadata": {},
      "source": [
        "### 3.6 Subplots\n",
        "\n",
        "Create multiple plots in one figure:\n"
      ]
    },
    {
      "cell_type": "code",
      "execution_count": null,
      "metadata": {},
      "outputs": [],
      "source": [
        "x = np.linspace(0, 10, 100)\n",
        "\n",
        "plt.figure(figsize=(12, 4))\n",
        "\n",
        "# First subplot\n",
        "plt.subplot(1, 3, 1)  # (rows, columns, index)\n",
        "plt.plot(x, np.sin(x))\n",
        "plt.title('sin(x)')\n",
        "plt.xlabel('x')\n",
        "plt.ylabel('y')\n",
        "\n",
        "# Second subplot\n",
        "plt.subplot(1, 3, 2)\n",
        "plt.plot(x, np.cos(x), 'r')\n",
        "plt.title('cos(x)')\n",
        "plt.xlabel('x')\n",
        "plt.ylabel('y')\n",
        "\n",
        "# Third subplot\n",
        "plt.subplot(1, 3, 3)\n",
        "plt.plot(x, np.exp(-x/5), 'g')\n",
        "plt.title('exp(-x/5)')\n",
        "plt.xlabel('x')\n",
        "plt.ylabel('y')\n",
        "\n",
        "plt.tight_layout()  # Adjust spacing\n",
        "plt.show()\n"
      ]
    },
    {
      "cell_type": "markdown",
      "metadata": {},
      "source": [
        "## 4. Practice Exercises\n",
        "\n",
        "Some optional excercises to practice your python skills\n",
        "\n",
        "### 1. Unit Conversion\n",
        "Create a NumPy array of temperatures in Celsius. Convert them all to Fahrenheit and plot both on the same graph.\n"
      ]
    },
    {
      "cell_type": "code",
      "execution_count": null,
      "metadata": {},
      "outputs": [],
      "source": [
        "# Your code here\n"
      ]
    },
    {
      "cell_type": "markdown",
      "metadata": {},
      "source": [
        "### 2. Wave Superposition\n",
        "Create two sine waves with different frequencies and plot their sum. For example, plot $sin(x) + sin(3x)$\n"
      ]
    },
    {
      "cell_type": "code",
      "execution_count": null,
      "metadata": {},
      "outputs": [],
      "source": [
        "# Your code here\n"
      ]
    },
    {
      "cell_type": "markdown",
      "metadata": {},
      "source": [
        "### 3. 2D Pattern\n",
        "Create and visualize a 2D function. Specifically, plot $Z = \\sin(x) \\cos(y)$ as a function of x and y, where x and u range from -π to π.\n"
      ]
    },
    {
      "cell_type": "code",
      "execution_count": null,
      "metadata": {},
      "outputs": [],
      "source": [
        "# Your code here\n"
      ]
    },
    {
      "cell_type": "markdown",
      "metadata": {},
      "source": [
        "## 5. Summary\n",
        "\n",
        "**Python Basics:**\n",
        "- Variables store data (no need to declare type)\n",
        "- Use `for` loops to repeat operations\n",
        "- Functions organize reusable code\n",
        "- Comments (using `#`) explain your code\n",
        "\n",
        "**NumPy:**\n",
        "- `import numpy as np` to use NumPy\n",
        "- Create arrays with `np.array()`, `np.zeros()`, `np.linspace()`\n",
        "- Operations work element-wise on entire arrays\n",
        "- Use mathematical functions: `np.sin()`, `np.exp()`, `np.sqrt()`, etc.\n",
        "- Access elements with indexing: `arr[i]` or slicing: `arr[start:end-1]`\n",
        "\n",
        "**Matplotlib:**\n",
        "- `import matplotlib.pyplot as plt` to use Matplotlib\n",
        "- `plt.plot(x, y)` for line plots\n",
        "- `plt.scatter(x, y)` for scatter plots\n",
        "- `plt.pcolormesh(X, Y, Z)` for 2D heatmaps\n",
        "- Always label axes and add titles for clarity\n",
        "- Use `plt.show()` to display plots\n",
        "\n",
        "**Useful Resources**\n",
        "\n",
        "- **NumPy Documentation:** https://numpy.org/doc/\n",
        "- **Matplotlib Gallery:** https://matplotlib.org/stable/gallery/\n",
        "- **Python Tutorial:** https://docs.python.org/3/tutorial/\n"
      ]
    }
  ],
  "metadata": {
    "kernelspec": {
      "display_name": "dedalus3",
      "language": "python",
      "name": "python3"
    },
    "language_info": {
      "codemirror_mode": {
        "name": "ipython",
        "version": 3
      },
      "file_extension": ".py",
      "mimetype": "text/x-python",
      "name": "python",
      "nbconvert_exporter": "python",
      "pygments_lexer": "ipython3",
      "version": "3.12.2"
    }
  },
  "nbformat": 4,
  "nbformat_minor": 2
}
